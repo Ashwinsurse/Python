{
 "cells": [
  {
   "cell_type": "code",
   "execution_count": null,
   "metadata": {},
   "outputs": [],
   "source": []
  },
  {
   "cell_type": "markdown",
   "metadata": {},
   "source": [
    "# reduce()"
   ]
  },
  {
   "cell_type": "code",
   "execution_count": 2,
   "metadata": {},
   "outputs": [
    {
     "name": "stdout",
     "output_type": "stream",
     "text": [
      "The sum of the list element is :17\n"
     ]
    }
   ],
   "source": [
    "import functools\n",
    "list=[1,3,5,6,2]\n",
    "print (\"The sum of the list element is :\" , end=\"\")\n",
    "print(functools.reduce(lambda a,b: a+b , list))"
   ]
  },
  {
   "cell_type": "code",
   "execution_count": null,
   "metadata": {},
   "outputs": [],
   "source": []
  },
  {
   "cell_type": "markdown",
   "metadata": {},
   "source": [
    "# zip()  "
   ]
  },
  {
   "cell_type": "code",
   "execution_count": 3,
   "metadata": {},
   "outputs": [
    {
     "name": "stdout",
     "output_type": "stream",
     "text": [
      "The zip result is :<zip object at 0x000002280CB60F08>\n"
     ]
    }
   ],
   "source": [
    "name=[\"Ashwin\",\"Mayur\",\"Tanmay\"]\n",
    "roll_no=[1,2,3]\n",
    "mapped = zip(name, roll_no)\n",
    "mpped= set(mapped)\n",
    "print(\"The zip result is :\", end=\"\")\n",
    "print(mapped)"
   ]
  },
  {
   "cell_type": "markdown",
   "metadata": {},
   "source": [
    "# enumerate()"
   ]
  },
  {
   "cell_type": "code",
   "execution_count": null,
   "metadata": {},
   "outputs": [],
   "source": [
    "#The enumerate() function takes a collection and returns it as an enumerate object.\n",
    "\n",
    "#The enumerate() function adds a counter as the key of the enumerate object."
   ]
  },
  {
   "cell_type": "code",
   "execution_count": 1,
   "metadata": {},
   "outputs": [
    {
     "name": "stdout",
     "output_type": "stream",
     "text": [
      "[(0, 'Ashwin'), (1, 'Ramesh'), (2, 'Surse')]\n"
     ]
    }
   ],
   "source": [
    "x = ('Ashwin', 'Ramesh', 'Surse')\n",
    "y = enumerate(x)\n",
    "\n",
    "print(list(y))\n"
   ]
  },
  {
   "cell_type": "code",
   "execution_count": null,
   "metadata": {},
   "outputs": [],
   "source": []
  }
 ],
 "metadata": {
  "kernelspec": {
   "display_name": "Python 3",
   "language": "python",
   "name": "python3"
  },
  "language_info": {
   "codemirror_mode": {
    "name": "ipython",
    "version": 3
   },
   "file_extension": ".py",
   "mimetype": "text/x-python",
   "name": "python",
   "nbconvert_exporter": "python",
   "pygments_lexer": "ipython3",
   "version": "3.7.6"
  }
 },
 "nbformat": 4,
 "nbformat_minor": 4
}
