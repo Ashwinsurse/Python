{
 "cells": [
  {
   "cell_type": "markdown",
   "metadata": {},
   "source": [
    "# Explain Return keyword with example."
   ]
  },
  {
   "cell_type": "code",
   "execution_count": null,
   "metadata": {},
   "outputs": [],
   "source": [
    "Return:= The return keyword is to exit a function and return a value."
   ]
  },
  {
   "cell_type": "code",
   "execution_count": 3,
   "metadata": {},
   "outputs": [
    {
     "name": "stdout",
     "output_type": "stream",
     "text": [
      "6\n"
     ]
    }
   ],
   "source": [
    "def myfunction():\n",
    "  return 3+3\n",
    "\n",
    "print(myfunction())"
   ]
  },
  {
   "cell_type": "code",
   "execution_count": null,
   "metadata": {},
   "outputs": [],
   "source": []
  },
  {
   "cell_type": "markdown",
   "metadata": {},
   "source": [
    "# create 4 seperate functions for each operation (i.e. addition,subtraction,multiplication and division)"
   ]
  },
  {
   "cell_type": "code",
   "execution_count": 7,
   "metadata": {},
   "outputs": [
    {
     "name": "stdout",
     "output_type": "stream",
     "text": [
      "Enter first numbers: 5\n",
      "Enter Second numbers: 10\n"
     ]
    }
   ],
   "source": [
    "def add(a,b):\n",
    "    print(\"Addition of two numbers\", a+b)\n",
    "def sub(a,b):\n",
    "    print(\"Subtraction of Two numbers\",a-b)\n",
    "def mul(a,b):\n",
    "    print(\"Multiplication of two numbers\", a*b)\n",
    "def div(a,b):\n",
    "    print(\"Division of two numbers\",a/b)\n",
    "\n",
    "x=int(input(\"Enter first numbers: \"))\n",
    "\n",
    "y=int(input(\"Enter Second numbers: \"))\n",
    "\n"
   ]
  },
  {
   "cell_type": "code",
   "execution_count": 8,
   "metadata": {},
   "outputs": [
    {
     "name": "stdout",
     "output_type": "stream",
     "text": [
      "Addition of two numbers 15\n",
      "Subtraction of Two numbers -5\n",
      "Multiplication of two numbers 50\n",
      "Division of two numbers 0.5\n"
     ]
    }
   ],
   "source": [
    "add(x,y)\n",
    "sub(x,y)\n",
    "mul(x,y)\n",
    "div(x,y)"
   ]
  },
  {
   "cell_type": "code",
   "execution_count": null,
   "metadata": {},
   "outputs": [],
   "source": []
  }
 ],
 "metadata": {
  "kernelspec": {
   "display_name": "Python 3",
   "language": "python",
   "name": "python3"
  },
  "language_info": {
   "codemirror_mode": {
    "name": "ipython",
    "version": 3
   },
   "file_extension": ".py",
   "mimetype": "text/x-python",
   "name": "python",
   "nbconvert_exporter": "python",
   "pygments_lexer": "ipython3",
   "version": "3.7.6"
  }
 },
 "nbformat": 4,
 "nbformat_minor": 4
}
